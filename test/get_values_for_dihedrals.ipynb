{
 "cells": [
  {
   "cell_type": "code",
   "execution_count": 1,
   "id": "00b4cddd",
   "metadata": {},
   "outputs": [
    {
     "name": "stderr",
     "output_type": "stream",
     "text": [
      "/Users/danielevans/Desktop/work/lau/vols_and_diheds/scoops/.venv/lib/python3.10/site-packages/Bio/pairwise2.py:278: BiopythonDeprecationWarning: Bio.pairwise2 has been deprecated, and we intend to remove it in a future release of Biopython. As an alternative, please consider using Bio.Align.PairwiseAligner as a replacement, and contact the Biopython developers if you still need the Bio.pairwise2 module.\n",
      "  warnings.warn(\n"
     ]
    }
   ],
   "source": [
    "import scoops\n",
    "import MDAnalysis as mda"
   ]
  },
  {
   "cell_type": "code",
   "execution_count": 2,
   "id": "11b58b07",
   "metadata": {},
   "outputs": [
    {
     "name": "stderr",
     "output_type": "stream",
     "text": [
      "/Users/danielevans/Desktop/work/lau/vols_and_diheds/scoops/.venv/lib/python3.10/site-packages/MDAnalysis/topology/PDBParser.py:328: UserWarning: Element information is missing, elements attribute will not be populated. If needed these can be guessed using MDAnalysis.topology.guessers.\n",
      "  warnings.warn(\"Element information is missing, elements attribute \"\n"
     ]
    }
   ],
   "source": [
    "u = mda.Universe(\"../example/mpro_short_traj.pdb\")"
   ]
  },
  {
   "cell_type": "code",
   "execution_count": 3,
   "id": "6f0bfb74",
   "metadata": {},
   "outputs": [
    {
     "name": "stderr",
     "output_type": "stream",
     "text": [
      "/Users/danielevans/Desktop/work/lau/vols_and_diheds/scoops/.venv/lib/python3.10/site-packages/MDAnalysis/analysis/base.py:438: UserWarning: Reader has no dt information, set to 1.0 ps\n",
      "  self.times[i] = ts.time\n",
      "/Users/danielevans/Desktop/work/lau/vols_and_diheds/scoops/.venv/lib/python3.10/site-packages/MDAnalysis/analysis/dihedrals.py:589: UserWarning: All residues selected with 'resname ALA CYS* GLY PRO SER THR VAL' have been removed from the selection.\n",
      "  warnings.warn(f\"All residues selected with '{select_remove}' \"\n"
     ]
    }
   ],
   "source": [
    "from scoops.dihedrals import get_dihedrals_for_resindex_list\n",
    "all_dihedral_labels, all_dihedrals = get_dihedrals_for_resindex_list(u.residues.resindices[0:3], u,\n",
    "                                                                     stop=3)"
   ]
  },
  {
   "cell_type": "code",
   "execution_count": 4,
   "id": "c55307ff",
   "metadata": {},
   "outputs": [
    {
     "data": {
      "text/plain": [
       "['0_psi', '1_phi', '1_psi', '2_phi', '2_psi', '2_chi1', '2_chi2']"
      ]
     },
     "execution_count": 4,
     "metadata": {},
     "output_type": "execute_result"
    }
   ],
   "source": [
    "all_dihedral_labels"
   ]
  },
  {
   "cell_type": "code",
   "execution_count": 5,
   "id": "08397e3a",
   "metadata": {},
   "outputs": [
    {
     "data": {
      "text/plain": [
       "array([[ 162.84396238, -161.34961879,  157.72267142],\n",
       "       [  90.20693418,   76.38551651,   72.7427654 ],\n",
       "       [ 165.71839726,  176.87725266,  163.96622462],\n",
       "       [-150.22894893, -149.5534853 , -142.95857303],\n",
       "       [ 133.48413625,  117.87262957,  126.74034659],\n",
       "       [-166.55996348, -142.58900354,  170.78627515],\n",
       "       [  30.04108741,   72.34003916,   31.96375341]])"
      ]
     },
     "execution_count": 5,
     "metadata": {},
     "output_type": "execute_result"
    }
   ],
   "source": [
    "all_dihedrals"
   ]
  },
  {
   "cell_type": "code",
   "execution_count": 6,
   "id": "9d9c3dfc",
   "metadata": {},
   "outputs": [
    {
     "data": {
      "text/plain": [
       "array([[ 1.        , -0.20784814,  0.9999479 , -0.52663338, -0.84702695,\n",
       "         0.92410978,  0.98792825],\n",
       "       [-0.20784814,  1.        , -0.19785213, -0.72206767,  0.69599446,\n",
       "         0.18170737, -0.35686809],\n",
       "       [ 0.9999479 , -0.19785213,  1.        , -0.53528378, -0.84155669,\n",
       "         0.92796243,  0.98629541],\n",
       "       [-0.52663338, -0.72206767, -0.53528378,  1.        , -0.00579397,\n",
       "        -0.81151044, -0.38858633],\n",
       "       [-0.84702695,  0.69599446, -0.84155669, -0.00579397,  1.        ,\n",
       "        -0.57962624, -0.9191454 ],\n",
       "       [ 0.92410978,  0.18170737,  0.92796243, -0.81151044, -0.57962624,\n",
       "         1.        ,  0.85375802],\n",
       "       [ 0.98792825, -0.35686809,  0.98629541, -0.38858633, -0.9191454 ,\n",
       "         0.85375802,  1.        ]])"
      ]
     },
     "execution_count": 6,
     "metadata": {},
     "output_type": "execute_result"
    }
   ],
   "source": [
    "score_matrix = scoops.dihedrals.get_dihedral_score_matrix(all_dihedrals, \"circ_corr\")\n",
    "score_matrix"
   ]
  },
  {
   "cell_type": "code",
   "execution_count": 7,
   "id": "6df8c100",
   "metadata": {},
   "outputs": [
    {
     "data": {
      "text/plain": [
       "(['1_phi', '2_phi', '0_psi', '1_psi', '2_psi', '2_chi1', '2_chi2'],\n",
       " array([[  90.20693418,   76.38551651,   72.7427654 ],\n",
       "        [-150.22894893, -149.5534853 , -142.95857303],\n",
       "        [ 162.84396238, -161.34961879,  157.72267142],\n",
       "        [ 165.71839726,  176.87725266,  163.96622462],\n",
       "        [ 133.48413625,  117.87262957,  126.74034659],\n",
       "        [-166.55996348, -142.58900354,  170.78627515],\n",
       "        [  30.04108741,   72.34003916,   31.96375341]]))"
      ]
     },
     "execution_count": 7,
     "metadata": {},
     "output_type": "execute_result"
    }
   ],
   "source": [
    "scoops.dihedrals.get_dihedrals_for_resindex_list(u.residues.resindices[0:3], u, stop=3, sort_by=\"dihedral\")"
   ]
  },
  {
   "cell_type": "code",
   "execution_count": 8,
   "id": "df453f32",
   "metadata": {},
   "outputs": [
    {
     "name": "stderr",
     "output_type": "stream",
     "text": [
      "100%|███████████████████████████████████████████████████████████████████████████████████████████████████████████████████████████████████████████| 7/7 [00:00<00:00, 462.07it/s]\n"
     ]
    },
    {
     "data": {
      "text/plain": [
       "[array([0.99563492, 0.        , 0.        , 0.00456349, 0.        ,\n",
       "        0.41563492, 0.34563492]),\n",
       " array([0.        , 0.99563492, 0.01765873, 0.        , 0.        ,\n",
       "        0.        , 0.        ]),\n",
       " array([0.        , 0.01765873, 0.99563492, 0.        , 0.        ,\n",
       "        0.        , 0.        ]),\n",
       " array([0.00456349, 0.        , 0.        , 0.99563492, 0.0093254 ,\n",
       "        0.03789683, 0.00956349]),\n",
       " array([0.        , 0.        , 0.        , 0.0093254 , 0.99563492,\n",
       "        0.        , 0.        ]),\n",
       " array([0.41563492, 0.        , 0.        , 0.03789683, 0.        ,\n",
       "        0.99563492, 0.41730159]),\n",
       " array([0.34563492, 0.        , 0.        , 0.00956349, 0.        ,\n",
       "        0.41730159, 0.99563492])]"
      ]
     },
     "execution_count": 8,
     "metadata": {},
     "output_type": "execute_result"
    }
   ],
   "source": [
    "all_dihedral_labels, all_dihedrals = scoops.dihedrals.get_dihedrals_for_resindex_list(u.residues.resindices[0:3], u)\n",
    "scoops.dihedrals.get_dihedral_score_matrix(all_dihedrals, \"mut_inf\")"
   ]
  },
  {
   "cell_type": "code",
   "execution_count": null,
   "id": "b0cc8707",
   "metadata": {},
   "outputs": [],
   "source": []
  }
 ],
 "metadata": {
  "kernelspec": {
   "display_name": "Python 3 (ipykernel)",
   "language": "python",
   "name": "python3"
  },
  "language_info": {
   "codemirror_mode": {
    "name": "ipython",
    "version": 3
   },
   "file_extension": ".py",
   "mimetype": "text/x-python",
   "name": "python",
   "nbconvert_exporter": "python",
   "pygments_lexer": "ipython3",
   "version": "3.10.0"
  }
 },
 "nbformat": 4,
 "nbformat_minor": 5
}

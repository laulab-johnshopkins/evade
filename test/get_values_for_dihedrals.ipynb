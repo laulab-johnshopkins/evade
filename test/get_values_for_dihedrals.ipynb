{
 "cells": [
  {
   "cell_type": "code",
   "execution_count": 1,
   "id": "00b4cddd",
   "metadata": {},
   "outputs": [],
   "source": [
    "import scoops\n",
    "import MDAnalysis as mda"
   ]
  },
  {
   "cell_type": "code",
   "execution_count": 2,
   "id": "11b58b07",
   "metadata": {},
   "outputs": [
    {
     "name": "stderr",
     "output_type": "stream",
     "text": [
      "/Users/danielevans/Desktop/work/lau/vols_and_diheds/mdanalysis_with_bug_fix/mdanalysis/package/MDAnalysis/topology/PDBParser.py:328: UserWarning: Element information is missing, elements attribute will not be populated. If needed these can be guessed using MDAnalysis.topology.guessers.\n",
      "  warnings.warn(\"Element information is missing, elements attribute \"\n"
     ]
    }
   ],
   "source": [
    "u = mda.Universe(\"../example/mpro_short_traj.pdb\")"
   ]
  },
  {
   "cell_type": "code",
   "execution_count": 3,
   "id": "6f0bfb74",
   "metadata": {},
   "outputs": [
    {
     "name": "stderr",
     "output_type": "stream",
     "text": [
      "/Users/danielevans/Desktop/work/lau/vols_and_diheds/mdanalysis_with_bug_fix/mdanalysis/package/MDAnalysis/analysis/base.py:447: UserWarning: Reader has no dt information, set to 1.0 ps\n",
      "  self.times[i] = ts.time\n",
      "/Users/danielevans/Desktop/work/lau/vols_and_diheds/mdanalysis_with_bug_fix/mdanalysis/package/MDAnalysis/analysis/dihedrals.py:589: UserWarning: All residues selected with 'resname ALA CYS* GLY PRO SER THR VAL' have been removed from the selection.\n",
      "  warnings.warn(f\"All residues selected with '{select_remove}' \"\n"
     ]
    }
   ],
   "source": [
    "from scoops.dihedrals import get_dihedrals_for_resindex_list\n",
    "all_dihedral_labels, all_dihedrals = get_dihedrals_for_resindex_list(u.residues.resindices[0:3], u,\n",
    "                                                                     stop=3)"
   ]
  },
  {
   "cell_type": "code",
   "execution_count": 4,
   "id": "c55307ff",
   "metadata": {},
   "outputs": [
    {
     "data": {
      "text/plain": [
       "['0_psi', '0_chi1', '1_phi', '1_psi', '2_phi', '2_psi', '2_chi1', '2_chi2']"
      ]
     },
     "execution_count": 4,
     "metadata": {},
     "output_type": "execute_result"
    }
   ],
   "source": [
    "all_dihedral_labels"
   ]
  },
  {
   "cell_type": "code",
   "execution_count": 5,
   "id": "08397e3a",
   "metadata": {},
   "outputs": [
    {
     "data": {
      "text/plain": [
       "array([[ 2.84216331, -2.81608209,  2.75277992],\n",
       "       [-1.24267058, -2.91528787, -2.8547367 ],\n",
       "       [ 1.57440801,  1.33317876,  1.26960076],\n",
       "       [ 2.89233166,  3.08709043,  2.86175048],\n",
       "       [-2.62198979, -2.61020073, -2.49509779],\n",
       "       [ 2.32973768,  2.05726548,  2.21203634],\n",
       "       [-2.90701976, -2.48864759,  2.98078282],\n",
       "       [ 0.52431589,  1.26257186,  0.55787274]])"
      ]
     },
     "execution_count": 5,
     "metadata": {},
     "output_type": "execute_result"
    }
   ],
   "source": [
    "all_dihedrals"
   ]
  },
  {
   "cell_type": "code",
   "execution_count": 6,
   "id": "9d9c3dfc",
   "metadata": {},
   "outputs": [
    {
     "data": {
      "text/plain": [
       "array([[ 1.        , -0.4278929 , -0.20784814,  0.9999479 , -0.52663338,\n",
       "        -0.84702695,  0.92410978,  0.98792825],\n",
       "       [-0.4278929 ,  1.        ,  0.97302755, -0.41864421, -0.54299596,\n",
       "         0.84286731, -0.05004229, -0.56274165],\n",
       "       [-0.20784814,  0.97302755,  1.        , -0.19785213, -0.72206767,\n",
       "         0.69599446,  0.18170737, -0.35686809],\n",
       "       [ 0.9999479 , -0.41864421, -0.19785213,  1.        , -0.53528378,\n",
       "        -0.84155669,  0.92796243,  0.98629541],\n",
       "       [-0.52663338, -0.54299596, -0.72206767, -0.53528378,  1.        ,\n",
       "        -0.00579397, -0.81151044, -0.38858633],\n",
       "       [-0.84702695,  0.84286731,  0.69599446, -0.84155669, -0.00579397,\n",
       "         1.        , -0.57962624, -0.9191454 ],\n",
       "       [ 0.92410978, -0.05004229,  0.18170737,  0.92796243, -0.81151044,\n",
       "        -0.57962624,  1.        ,  0.85375802],\n",
       "       [ 0.98792825, -0.56274165, -0.35686809,  0.98629541, -0.38858633,\n",
       "        -0.9191454 ,  0.85375802,  1.        ]])"
      ]
     },
     "execution_count": 6,
     "metadata": {},
     "output_type": "execute_result"
    }
   ],
   "source": [
    "score_matrix = scoops.dihedrals.get_dihedral_score_matrix(all_dihedrals, \"circ_corr\")\n",
    "score_matrix"
   ]
  },
  {
   "cell_type": "code",
   "execution_count": 7,
   "id": "6df8c100",
   "metadata": {},
   "outputs": [
    {
     "data": {
      "text/plain": [
       "(['1_phi', '2_phi', '0_psi', '1_psi', '2_psi', '0_chi1', '2_chi1', '2_chi2'],\n",
       " array([[ 1.57440801,  1.33317876,  1.26960076],\n",
       "        [-2.62198979, -2.61020073, -2.49509779],\n",
       "        [ 2.84216331, -2.81608209,  2.75277992],\n",
       "        [ 2.89233166,  3.08709043,  2.86175048],\n",
       "        [ 2.32973768,  2.05726548,  2.21203634],\n",
       "        [-1.24267058, -2.91528787, -2.8547367 ],\n",
       "        [-2.90701976, -2.48864759,  2.98078282],\n",
       "        [ 0.52431589,  1.26257186,  0.55787274]]))"
      ]
     },
     "execution_count": 7,
     "metadata": {},
     "output_type": "execute_result"
    }
   ],
   "source": [
    "scoops.dihedrals.get_dihedrals_for_resindex_list(u.residues.resindices[0:3], u, stop=3, sort_by=\"dihedral\")"
   ]
  },
  {
   "cell_type": "code",
   "execution_count": 8,
   "id": "df453f32",
   "metadata": {},
   "outputs": [
    {
     "name": "stderr",
     "output_type": "stream",
     "text": [
      "100%|█████████████████████████████████████████████████████████████████████████████████████████████████████████████████████████████████████████████████████████████████| 8/8 [00:00<00:00, 511.19it/s]\n"
     ]
    },
    {
     "data": {
      "text/plain": [
       "[array([0.99563492, 0.21123016, 0.        , 0.        , 0.        ,\n",
       "        0.        , 0.04571429, 0.        ]),\n",
       " array([0.21123016, 0.99563492, 0.        , 0.04202381, 0.        ,\n",
       "        0.05873016, 0.04087302, 0.17634921]),\n",
       " array([0.        , 0.        , 0.99563492, 0.03789683, 0.        ,\n",
       "        0.        , 0.        , 0.        ]),\n",
       " array([0.        , 0.04202381, 0.03789683, 0.99563492, 0.02678571,\n",
       "        0.06666667, 0.        , 0.        ]),\n",
       " array([0.        , 0.        , 0.        , 0.02678571, 0.99563492,\n",
       "        0.0093254 , 0.02083333, 0.        ]),\n",
       " array([0.        , 0.05873016, 0.        , 0.06666667, 0.0093254 ,\n",
       "        0.99563492, 0.        , 0.        ]),\n",
       " array([0.04571429, 0.04087302, 0.        , 0.        , 0.02083333,\n",
       "        0.        , 0.99563492, 0.27404762]),\n",
       " array([0.        , 0.17634921, 0.        , 0.        , 0.        ,\n",
       "        0.        , 0.27404762, 0.99563492])]"
      ]
     },
     "execution_count": 8,
     "metadata": {},
     "output_type": "execute_result"
    }
   ],
   "source": [
    "all_dihedral_labels, all_dihedrals = scoops.dihedrals.get_dihedrals_for_resindex_list(u.residues.resindices[0:3], u)\n",
    "scoops.dihedrals.get_dihedral_score_matrix(all_dihedrals, \"mut_inf\")"
   ]
  },
  {
   "cell_type": "code",
   "execution_count": null,
   "id": "f6fe44c2",
   "metadata": {},
   "outputs": [],
   "source": []
  }
 ],
 "metadata": {
  "kernelspec": {
   "display_name": "Python 3 (ipykernel)",
   "language": "python",
   "name": "python3"
  },
  "language_info": {
   "codemirror_mode": {
    "name": "ipython",
    "version": 3
   },
   "file_extension": ".py",
   "mimetype": "text/x-python",
   "name": "python",
   "nbconvert_exporter": "python",
   "pygments_lexer": "ipython3",
   "version": "3.10.0"
  }
 },
 "nbformat": 4,
 "nbformat_minor": 5
}

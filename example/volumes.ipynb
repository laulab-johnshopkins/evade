{
 "cells": [
  {
   "cell_type": "code",
   "execution_count": 1,
   "id": "62192852",
   "metadata": {},
   "outputs": [],
   "source": [
    "import scoops\n",
    "import MDAnalysis as mda\n",
    "import matplotlib.pyplot as plt\n",
    "%matplotlib notebook\n",
    "%matplotlib inline"
   ]
  },
  {
   "cell_type": "markdown",
   "id": "21554559",
   "metadata": {},
   "source": [
    "## Load the data\n",
    "The SCOOPS workflow uses MDAnalysis to load MD data.  This example notebook uses a multiframe PDB file.  MDAnalysis can also load several other formats, e.g. `u = mda.Universe(\"test_psf.psf\", [\"test_dcd_1.dcd, \"test_dcd_2.dcd\"])`.  See the MDAnalysis documentation for more details."
   ]
  },
  {
   "cell_type": "code",
   "execution_count": 2,
   "id": "590795bd",
   "metadata": {},
   "outputs": [
    {
     "name": "stderr",
     "output_type": "stream",
     "text": [
      "/Users/danielevans/Desktop/work/lau/vols_and_diheds/mdanalysis_with_bug_fix/mdanalysis/package/MDAnalysis/topology/PDBParser.py:328: UserWarning: Element information is missing, elements attribute will not be populated. If needed these can be guessed using MDAnalysis.topology.guessers.\n",
      "  warnings.warn(\"Element information is missing, elements attribute \"\n"
     ]
    }
   ],
   "source": [
    "u = mda.Universe(\"mpro_short_traj.pdb\")"
   ]
  },
  {
   "cell_type": "markdown",
   "id": "36ca728a",
   "metadata": {},
   "source": [
    "## Select the binding site location.\n",
    "Our example protein is SARS-CoV-2 main protease.  It is a homodimer; each chain's active site has two catalytic residues.  We will define our binding site's center as the center of mass of chain A's catalytic residues.  The site's edge will be a sphere with radius 9 Angstroms.\n",
    "\n",
    "SCOOPS divides space into a 3D grid of cubes called voxels.  Proteins and binding pockets are defined as collections of filled voxels.  See below for a representation of this.\n",
    "\n",
    "The volume-calculation procedure has several steps:\n",
    "* Create a voxelized protein surface.  This is stored as a ProteinSurface object.\n",
    "* Create a sphere with the correct center and radius.  This is stored as a VoxelGrid object.\n",
    "* \"Subtract\" the protein surface from the sphere, by finding all regions of the sphere that are not part of the protein.\n",
    "* Optional: remove everything from the pocket except for the largest contiguous shape.\n",
    "\n",
    "Note that a newly created MDAnalysis Universe is initialized at the first frame of the trajectory.  Thus our notebook will find the site in the first frame."
   ]
  },
  {
   "cell_type": "code",
   "execution_count": 3,
   "id": "7af42d9d",
   "metadata": {},
   "outputs": [],
   "source": [
    "# Voxelize the protein.\n",
    "grid_size = 1 # Side length of the voxel grid (in Angstroms)\n",
    "prot_atoms = u.select_atoms(\"protein\") # Select the protein atoms (i.e. not any solvent or ligand).\n",
    "protein_surf = scoops.volumes.ProteinSurface(prot_atoms, solvent_rad=1.09, grid_size=grid_size)\n",
    "\n",
    "# Define the binding site as a sphere.\n",
    "active_site_atoms = u.select_atoms(\"segid PROA and (resid 41 or resid 145)\")\n",
    "active_site_center = active_site_atoms.center_of_mass()\n",
    "sphere_voxel = scoops.volumes.generate_voxelized_sphere(9, active_site_center, grid_size)\n",
    "\n",
    "# Subtract the protein surface from the sphere.\n",
    "pocket_shape = scoops.volumes.voxel_subtract(sphere_voxel, protein_surf.surf)\n",
    "\n",
    "# Get the largest shape.\n",
    "pocket_shape = scoops.volumes.get_largest_shape(pocket_shape)"
   ]
  },
  {
   "cell_type": "markdown",
   "id": "dd6ce3e5",
   "metadata": {},
   "source": [
    "## View the binding site.\n",
    "It is important to check that the binding site looks reasonable.  We want to view both the protein (a `ProteinSurface`) and the pocket (a `VoxelGrid`).  This is done with the function `show_in_jupyter`.\n",
    "\n",
    "The controls for zooming, rotating, etc. may vary between computers.  On my Mac laptop, the controls are as follows:\n",
    "* Rotate screen: click and drag.\n",
    "* Zoom: pinch in/out with two fingers, or slide up/down with two fingers.\n",
    "* Drag camera: press and hold shift; while holding, click and drag.\n",
    "\n",
    "Additional notes:\n",
    "* The initial viewing angle might be bad.  You'll probably need to zoom out.\n",
    "* If no window shows up, you might need to downgrade a library called `ipywidgets`.  This is due to a known bug in a SOOPS dependency, as described [here](https://github.com/pyvista/pyvista/issues/3274).  Running the command `pip install ipywidgets==7.7.1` should fix the issue.\n",
    "* If you are running the Jupyter notebook on a remote server, you'll need to run `import pyvista as pv` and `pv.start_xvfb()` to view the protein.  Viewing the protein remotely can have severe lag, so it should be avoided when possible.\n",
    "* Alternatively, you can output the voxelized shapes to PDB files using `write_voxels_to_pdb`.  E.g. `write_voxels_to_pdb(protein_surf.surf, \"protein.pdb\")` and `write_voxels_to_pdb(pocket_shape, \"pocket.pdb\")`.\n",
    "* When grid_size is small (e.g. 0.5), passing large selections to `sel_regions` can dramatically slow down the code's runtime."
   ]
  },
  {
   "cell_type": "code",
   "execution_count": 4,
   "id": "70516bd1",
   "metadata": {},
   "outputs": [
    {
     "data": {
      "application/vnd.jupyter.widget-view+json": {
       "model_id": "603dc5ac8f8f4c4ea9b827b749463e40",
       "version_major": 2,
       "version_minor": 0
      },
      "text/plain": [
       "ViewInteractiveWidget(height=768, layout=Layout(height='auto', width='100%'), width=1024)"
      ]
     },
     "metadata": {},
     "output_type": "display_data"
    }
   ],
   "source": [
    "# Uncomment the pyvista xvfb lines if running on remote server. \n",
    "#import pyvista as pv\n",
    "#pv.start_xvfb()\n",
    "\n",
    "sel_regions={u.select_atoms(\"segid PROA and (resid 41 or resid 145)\") : \"green\",\n",
    "             u.select_atoms(\"segid PROB\") : \"orange\"}\n",
    "\n",
    "prot_viewer = scoops.volumes.show_in_jupyter(protein_surf, sel_regions_1=sel_regions,\n",
    "                                             object_2=pocket_shape)"
   ]
  },
  {
   "cell_type": "code",
   "execution_count": 5,
   "id": "2ffcbe86",
   "metadata": {},
   "outputs": [],
   "source": [
    "prot_viewer.set_background(\"white\")"
   ]
  },
  {
   "cell_type": "markdown",
   "id": "1d70ad54",
   "metadata": {},
   "source": [
    "## Align the trajectory.\n",
    "The SCOOPS volume calculator is very sensitive to how the trajectory is aligned.  It is not enough to align the trajectory using a global alignment; you should align using just the pocket region.  This way if the entire pocket changes location (e.g. due to domain motion), this won't impact the results.\n",
    "\n",
    "SCOOPS includes a function to automatically align to a pocket.  It finds all atoms that border the pocket, and aligns each frame to these atoms' positions in the first frame.  It writes the aligned trajectory to a file, and returns an MDAnalysis Universe of that file.  The output file can be either PDB format or (if `psf_loc` is also provided) DCD format."
   ]
  },
  {
   "cell_type": "code",
   "execution_count": 6,
   "id": "e830f41c",
   "metadata": {},
   "outputs": [
    {
     "name": "stderr",
     "output_type": "stream",
     "text": [
      "/Users/danielevans/Desktop/work/lau/vols_and_diheds/mdanalysis_with_bug_fix/mdanalysis/package/MDAnalysis/analysis/base.py:447: UserWarning: Reader has no dt information, set to 1.0 ps\n",
      "  self.times[i] = ts.time\n",
      "/Users/danielevans/Desktop/work/lau/vols_and_diheds/mdanalysis_with_bug_fix/mdanalysis/package/MDAnalysis/coordinates/PDB.py:753: UserWarning: Unit cell dimensions not found. CRYST1 record set to unitary values.\n",
      "  warnings.warn(\"Unit cell dimensions not found. \"\n",
      "/Users/danielevans/Desktop/work/lau/vols_and_diheds/mdanalysis_with_bug_fix/mdanalysis/package/MDAnalysis/coordinates/PDB.py:1129: UserWarning: Found no information for attr: 'elements' Using default value of ' '\n",
      "  warnings.warn(\"Found no information for attr: '{}'\"\n",
      "/Users/danielevans/Desktop/work/lau/vols_and_diheds/mdanalysis_with_bug_fix/mdanalysis/package/MDAnalysis/coordinates/PDB.py:1129: UserWarning: Found no information for attr: 'formalcharges' Using default value of '0'\n",
      "  warnings.warn(\"Found no information for attr: '{}'\"\n",
      "/Users/danielevans/Desktop/work/lau/vols_and_diheds/mdanalysis_with_bug_fix/mdanalysis/package/MDAnalysis/topology/PDBParser.py:328: UserWarning: Element information is missing, elements attribute will not be populated. If needed these can be guessed using MDAnalysis.topology.guessers.\n",
      "  warnings.warn(\"Element information is missing, elements attribute \"\n"
     ]
    }
   ],
   "source": [
    "copy_filename = \"aligned.pdb\"\n",
    "u_copy = scoops.volumes.align_to_pocket(protein_surf, pocket_shape, u,\n",
    "                                               copy_filename, 0)\n",
    "\n",
    "protein_in_copy = u_copy.select_atoms(\"protein\")"
   ]
  },
  {
   "cell_type": "markdown",
   "id": "57727030",
   "metadata": {},
   "source": [
    "## Get the pocket volume of each frame.\n",
    "\n",
    "At each frame, find the voxelized protein surface and subtract it from the pocket sphere.  Store the results in lists.\n",
    "\n",
    "WARNING: for long trajectories, storing the voxelized protein and pocket shapes of each frame can use too much memory.  It may be necessary to only store the volumes (in cubic Angstroms) of each frame, and then re-find the voxelized surfaces for frames of interest."
   ]
  },
  {
   "cell_type": "code",
   "execution_count": 7,
   "id": "89a15a8e",
   "metadata": {
    "scrolled": false
   },
   "outputs": [
    {
     "data": {
      "image/png": "[encoded data removed]",
      "text/plain": [
       "<Figure size 640x480 with 1 Axes>"
      ]
     },
     "metadata": {},
     "output_type": "display_data"
    }
   ],
   "source": [
    "volumes = []\n",
    "pockets = []\n",
    "prots = []\n",
    "for frame in u_copy.trajectory[0:6]:\n",
    "    prot_this_frame = scoops.volumes.ProteinSurface(protein_in_copy, solvent_rad=1.09, grid_size=grid_size)\n",
    "    pocket_this_frame = scoops.volumes.voxel_subtract(sphere_voxel, prot_this_frame.surf)\n",
    "    pocket_this_frame = scoops.volumes.get_largest_shape(pocket_this_frame)\n",
    "    volumes.append(pocket_this_frame.volume)\n",
    "    pockets.append(pocket_this_frame)\n",
    "    prots.append(prot_this_frame)\n",
    "\n",
    "plt.plot(volumes)\n",
    "plt.xlabel(\"Frame in MD Trajectory\")\n",
    "plt.ylabel(\"Volume (Cubic Angstroms)\")\n",
    "plt.show()"
   ]
  },
  {
   "cell_type": "code",
   "execution_count": null,
   "id": "2bf74469",
   "metadata": {},
   "outputs": [],
   "source": []
  }
 ],
 "metadata": {
  "kernelspec": {
   "display_name": "Python 3 (ipykernel)",
   "language": "python",
   "name": "python3"
  },
  "language_info": {
   "codemirror_mode": {
    "name": "ipython",
    "version": 3
   },
   "file_extension": ".py",
   "mimetype": "text/x-python",
   "name": "python",
   "nbconvert_exporter": "python",
   "pygments_lexer": "ipython3",
   "version": "3.10.0"
  }
 },
 "nbformat": 4,
 "nbformat_minor": 5
}

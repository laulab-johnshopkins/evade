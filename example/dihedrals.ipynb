{
 "cells": [
  {
   "cell_type": "code",
   "execution_count": 1,
   "id": "00b4cddd",
   "metadata": {},
   "outputs": [
    {
     "name": "stderr",
     "output_type": "stream",
     "text": [
      "/Users/danielevans/Desktop/work/lau/vols_and_diheds/scoops/.venv/lib/python3.10/site-packages/Bio/pairwise2.py:278: BiopythonDeprecationWarning: Bio.pairwise2 has been deprecated, and we intend to remove it in a future release of Biopython. As an alternative, please consider using Bio.Align.PairwiseAligner as a replacement, and contact the Biopython developers if you still need the Bio.pairwise2 module.\n",
      "  warnings.warn(\n"
     ]
    }
   ],
   "source": [
    "import scoops\n",
    "import MDAnalysis as mda"
   ]
  },
  {
   "cell_type": "code",
   "execution_count": 2,
   "id": "11b58b07",
   "metadata": {},
   "outputs": [
    {
     "name": "stderr",
     "output_type": "stream",
     "text": [
      "/Users/danielevans/Desktop/work/lau/vols_and_diheds/scoops/.venv/lib/python3.10/site-packages/MDAnalysis/topology/PDBParser.py:328: UserWarning: Element information is missing, elements attribute will not be populated. If needed these can be guessed using MDAnalysis.topology.guessers.\n",
      "  warnings.warn(\"Element information is missing, elements attribute \"\n"
     ]
    }
   ],
   "source": [
    "u = mda.Universe(\"mpro_short_traj.pdb\")"
   ]
  },
  {
   "cell_type": "code",
   "execution_count": 8,
   "id": "6f0bfb74",
   "metadata": {},
   "outputs": [],
   "source": [
    "all_dihedral_labels, all_dihedrals = scoops.dihedrals.get_dihedrals_for_resindex_list(u.residues.resindices, u)"
   ]
  },
  {
   "cell_type": "code",
   "execution_count": 9,
   "id": "c87e5f8b",
   "metadata": {},
   "outputs": [],
   "source": [
    "score_matrix = scoops.dihedrals.get_dihedral_score_matrix(all_dihedrals, \"inv_cov\")"
   ]
  },
  {
   "cell_type": "code",
   "execution_count": 10,
   "id": "9c747943",
   "metadata": {},
   "outputs": [
    {
     "data": {
      "text/plain": [
       "array([[-1.22499309e+11, -3.63289905e+10, -1.34050602e+11, ...,\n",
       "        -3.68470261e+09, -2.96030156e+10, -4.41182238e+10],\n",
       "       [ 3.10064561e+12,  3.15026861e+12,  7.43518841e+11, ...,\n",
       "        -3.18593739e+09, -1.18878916e+12, -1.13162600e+12],\n",
       "       [ 4.42597814e+12,  1.71435400e+12, -7.27182994e+11, ...,\n",
       "         5.32835086e+10, -5.40981994e+11,  1.53583733e+11],\n",
       "       ...,\n",
       "       [ 3.51241163e+10, -3.77669299e+10,  2.66845306e+10, ...,\n",
       "         8.24817992e+08,  8.47573463e+09,  4.86581054e+09],\n",
       "       [ 1.49677838e+10,  3.76707809e+11, -2.58087846e+10, ...,\n",
       "         1.02875236e+09, -9.56954341e+10, -4.68581568e+10],\n",
       "       [-2.18238111e+11,  3.18990418e+10, -2.29138031e+11, ...,\n",
       "        -7.39620364e+09, -1.03419964e+11, -3.36825170e+09]])"
      ]
     },
     "execution_count": 10,
     "metadata": {},
     "output_type": "execute_result"
    }
   ],
   "source": [
    "score_matrix"
   ]
  },
  {
   "cell_type": "code",
   "execution_count": null,
   "id": "aa8fa349",
   "metadata": {},
   "outputs": [],
   "source": []
  }
 ],
 "metadata": {
  "kernelspec": {
   "display_name": "Python 3 (ipykernel)",
   "language": "python",
   "name": "python3"
  },
  "language_info": {
   "codemirror_mode": {
    "name": "ipython",
    "version": 3
   },
   "file_extension": ".py",
   "mimetype": "text/x-python",
   "name": "python",
   "nbconvert_exporter": "python",
   "pygments_lexer": "ipython3",
   "version": "3.10.0"
  }
 },
 "nbformat": 4,
 "nbformat_minor": 5
}

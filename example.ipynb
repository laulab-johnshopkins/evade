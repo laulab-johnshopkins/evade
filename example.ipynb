{
 "cells": [
  {
   "cell_type": "code",
   "execution_count": 1,
   "id": "62192852",
   "metadata": {},
   "outputs": [
    {
     "name": "stderr",
     "output_type": "stream",
     "text": [
      "/Users/danielevans/Desktop/work/lau/mda/mda_3p9/.venv/lib/python3.9/site-packages/MDAnalysis/coordinates/TRJ.py:1209: DeprecationWarning: Please use `netcdf_file` from the `scipy.io` namespace, the `scipy.io.netcdf` namespace is deprecated.\n",
      "  class NCDFPicklable(scipy.io.netcdf.netcdf_file):\n"
     ]
    }
   ],
   "source": [
    "import volume_finder\n",
    "import MDAnalysis as mda\n",
    "import trimesh\n",
    "import matplotlib.pyplot as plt\n",
    "%matplotlib notebook\n",
    "%matplotlib inline"
   ]
  },
  {
   "cell_type": "code",
   "execution_count": 2,
   "id": "52abbe2c",
   "metadata": {
    "scrolled": true
   },
   "outputs": [
    {
     "name": "stderr",
     "output_type": "stream",
     "text": [
      "/Users/danielevans/Desktop/work/lau/mda/mda_3p9/.venv/lib/python3.9/site-packages/MDAnalysis/topology/PDBParser.py:317: UserWarning: Element information is missing, elements attribute will not be populated. If needed these can be guessed using MDAnalysis.topology.guessers.\n",
      "  warnings.warn(\"Element information is missing, elements attribute \"\n"
     ]
    }
   ],
   "source": [
    "u=mda.Universe(\"../../povme/test/test_omt.pdb\")\n",
    "prot_atoms = u.select_atoms(\"protein\")"
   ]
  },
  {
   "cell_type": "code",
   "execution_count": 3,
   "id": "f0caab1b",
   "metadata": {},
   "outputs": [
    {
     "data": {
      "image/png": "[encoded data removed]",
      "text/plain": [
       "<Figure size 432x288 with 1 Axes>"
      ]
     },
     "metadata": {
      "needs_background": "light"
     },
     "output_type": "display_data"
    }
   ],
   "source": [
    "volumes = []\n",
    "pockets = []\n",
    "prots = []\n",
    "\n",
    "grid_size = 0.5\n",
    "sphere_center = [5.1972256, -3.2381766,  5.0007186]\n",
    "roi_voxel = volume_finder.generate_voxelized_sphere(5, sphere_center, 0.5)\n",
    "for frame in u.trajectory[0:11]:\n",
    "    s = volume_finder.ProteinSurface(prot_atoms, solvent_rad=1.09, grid_size=grid_size)\n",
    "    su = volume_finder.voxel_subtract(roi_voxel, s.surf)\n",
    "    volumes.append(su.volume)\n",
    "    pockets.append(su)\n",
    "    prots.append(s)\n",
    "\n",
    "plt.plot(volumes)\n",
    "plt.xlabel(\"Frame in MD Trajectory\")\n",
    "plt.ylabel(\"Volume (Cubic Angstroms)\")\n",
    "plt.show()"
   ]
  },
  {
   "cell_type": "code",
   "execution_count": 4,
   "id": "4bfe3a20",
   "metadata": {},
   "outputs": [
    {
     "name": "stderr",
     "output_type": "stream",
     "text": [
      "2022-07-20 11:20:24.388 Python[9902:646114] ApplePersistenceIgnoreState: Existing state will not be touched. New state will be written to /var/folders/ns/3vj5l9t51573yvmylknzf4dw0000gn/T/org.python.python.savedState\n"
     ]
    },
    {
     "data": {
      "application/vnd.jupyter.widget-view+json": {
       "model_id": "24241fc4ccf64f968f4fe2e4b0d0eac6",
       "version_major": 2,
       "version_minor": 0
      },
      "text/plain": [
       "ViewInteractiveWidget(height=768, layout=Layout(height='auto', width='100%'), width=1024)"
      ]
     },
     "metadata": {},
     "output_type": "display_data"
    }
   ],
   "source": [
    "volume_finder.show_pocket(prots[0].surf, pockets[0])"
   ]
  },
  {
   "cell_type": "code",
   "execution_count": 5,
   "id": "3d33017c",
   "metadata": {},
   "outputs": [
    {
     "data": {
      "application/vnd.jupyter.widget-view+json": {
       "model_id": "9a25a0b2977d4b15b3098998c4079b8e",
       "version_major": 2,
       "version_minor": 0
      },
      "text/plain": [
       "ViewInteractiveWidget(height=768, layout=Layout(height='auto', width='100%'), width=1024)"
      ]
     },
     "metadata": {},
     "output_type": "display_data"
    }
   ],
   "source": [
    "pocket_edge = volume_finder.get_prot_pocket(prots[0].surf, pockets[0])\n",
    "volume_finder.show_pocket(pocket_edge, pockets[0])"
   ]
  },
  {
   "cell_type": "code",
   "execution_count": 6,
   "id": "7a591f97",
   "metadata": {},
   "outputs": [
    {
     "name": "stdout",
     "output_type": "stream",
     "text": [
      "26\n",
      "977.5000000000002\n"
     ]
    },
    {
     "data": {
      "application/vnd.jupyter.widget-view+json": {
       "model_id": "2b919423a7bc4d78945a4f70f5877a23",
       "version_major": 2,
       "version_minor": 0
      },
      "text/plain": [
       "ViewInteractiveWidget(height=768, layout=Layout(height='auto', width='100%'), width=1024)"
      ]
     },
     "metadata": {},
     "output_type": "display_data"
    }
   ],
   "source": [
    "pocket_atoms, pocket = volume_finder.get_pocket_atoms(prots[0], pockets[0])\n",
    "print(len(pocket_atoms))\n",
    "print(pocket.volume)\n",
    "volume_finder.show_pocket(pocket, pockets[0])"
   ]
  },
  {
   "cell_type": "code",
   "execution_count": null,
   "id": "a176b049",
   "metadata": {},
   "outputs": [],
   "source": []
  }
 ],
 "metadata": {
  "kernelspec": {
   "display_name": "Python 3 (ipykernel)",
   "language": "python",
   "name": "python3"
  },
  "language_info": {
   "codemirror_mode": {
    "name": "ipython",
    "version": 3
   },
   "file_extension": ".py",
   "mimetype": "text/x-python",
   "name": "python",
   "nbconvert_exporter": "python",
   "pygments_lexer": "ipython3",
   "version": "3.9.13"
  }
 },
 "nbformat": 4,
 "nbformat_minor": 5
}
